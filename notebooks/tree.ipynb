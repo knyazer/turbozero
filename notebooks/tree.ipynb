{
 "cells": [
  {
   "cell_type": "markdown",
   "metadata": {},
   "source": []
  },
  {
   "cell_type": "code",
   "execution_count": 1,
   "metadata": {},
   "outputs": [],
   "source": [
    "import pgx\n",
    "import jax\n",
    "import jax.numpy as jnp\n",
    "from core.trees.tree import init_batched_tree\n",
    "from core.evaluators.mcts.mcts import MCTSTree, MCTSNode, MCTS\n",
    "\n",
    "env = pgx.make(\"othello\")\n",
    "BATCH_SIZE = 8\n",
    "MAX_NODES = 50\n",
    "\n",
    "key = jax.random.PRNGKey(0)\n",
    "keys = jax.random.split(key, BATCH_SIZE)\n",
    "sample_env_state = env.init(key)\n",
    "\n",
    "node = MCTSNode(\n",
    "    n=jnp.array(0, dtype=jnp.int32),\n",
    "    p=jnp.zeros(65, dtype=jnp.float32),\n",
    "    w=jnp.array(0, dtype=jnp.float32),\n",
    "    terminal=jnp.array(False, dtype=jnp.bool_),\n",
    "    embedding=sample_env_state,\n",
    ")\n",
    "\n",
    "tree: MCTSTree = init_batched_tree(\n",
    "    key = jax.random.PRNGKey(0),\n",
    "    batch_size = BATCH_SIZE,\n",
    "    max_nodes = MAX_NODES,\n",
    "    branching_factor = 65,\n",
    "    dummy_data=node\n",
    ")\n",
    "\n",
    "keys = jax.random.split(key, BATCH_SIZE)\n",
    "env_embedding = jax.vmap(env.init)(keys)"
   ]
  },
  {
   "cell_type": "code",
   "execution_count": 2,
   "metadata": {},
   "outputs": [],
   "source": [
    "# define neural network\n",
    "from core.networks.azresnet import AZResnetConfig, AZResnet\n",
    "\n",
    "resnet = AZResnet(AZResnetConfig(\n",
    "    model_type=\"resnet\",\n",
    "    policy_head_out_size=65,\n",
    "    num_blocks=2,\n",
    "    num_channels=4,\n",
    "))\n",
    "\n",
    "params = resnet.init(jax.random.PRNGKey(0), jnp.zeros((1, *env.observation_shape)), train=False)"
   ]
  },
  {
   "cell_type": "code",
   "execution_count": 3,
   "metadata": {},
   "outputs": [],
   "source": [
    "import functools\n",
    "from core.evaluators.alphazero import AlphaZero\n",
    "\n",
    "from core.evaluators.mcts.action_selection import MuZeroPUCTSelector, PUCTSelector\n",
    "\n",
    "\n",
    "def step_fn(state, action):\n",
    "    player_id = state.current_player\n",
    "    state = env.step(state, action)\n",
    "    return state, state.rewards[player_id], state.terminated\n",
    "\n",
    "def eval_fn(state, params):\n",
    "    policy_logits, value = resnet.apply(params, state.observation[None,...], train=False)\n",
    "    return jax.nn.softmax(policy_logits, axis=-1).squeeze(0), \\\n",
    "            value.squeeze()\n",
    "\n",
    "az = AlphaZero(\n",
    "    step_fn = step_fn,\n",
    "    eval_fn = functools.partial(eval_fn, params=params),\n",
    "    action_selection_fn = PUCTSelector(),\n",
    "    action_mask_fn = lambda e: e.legal_action_mask\n",
    ")"
   ]
  },
  {
   "cell_type": "code",
   "execution_count": 4,
   "metadata": {},
   "outputs": [],
   "source": [
    "from functools import partial\n",
    "\n",
    "search = jax.jit(partial(az.search, num_iterations=50))\n",
    "tree2 = jax.vmap(search)(tree, env_embedding)"
   ]
  },
  {
   "cell_type": "code",
   "execution_count": 5,
   "metadata": {},
   "outputs": [
    {
     "data": {
      "text/plain": [
       "'graph.svg'"
      ]
     },
     "execution_count": 5,
     "metadata": {},
     "output_type": "execute_result"
    }
   ],
   "source": [
    "from core.evaluators.mcts.data import tree_to_graph\n",
    "graph = tree_to_graph(tree2, batch_id=0)\n",
    "graph.render('graph', format='svg', view=True)"
   ]
  }
 ],
 "metadata": {
  "kernelspec": {
   "display_name": "turbozero-mMa0U6zx-py3.10",
   "language": "python",
   "name": "python3"
  },
  "language_info": {
   "codemirror_mode": {
    "name": "ipython",
    "version": 3
   },
   "file_extension": ".py",
   "mimetype": "text/x-python",
   "name": "python",
   "nbconvert_exporter": "python",
   "pygments_lexer": "ipython3",
   "version": "3.10.9"
  }
 },
 "nbformat": 4,
 "nbformat_minor": 2
}
