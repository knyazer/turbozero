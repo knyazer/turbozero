{
 "cells": [
  {
   "cell_type": "markdown",
   "metadata": {},
   "source": []
  },
  {
   "cell_type": "code",
   "execution_count": 1,
   "metadata": {},
   "outputs": [],
   "source": [
    "import pgx\n",
    "import jax\n",
    "import jax.numpy as jnp\n",
    "from core.trees.tree import init_batched_tree\n",
    "from core.evaluators.mcts.mcts import MCTSTree, MCTSNode, MCTS\n",
    "\n",
    "env = pgx.make(\"othello\")\n",
    "BATCH_SIZE = 1\n",
    "MAX_NODES = 200\n",
    "\n",
    "key = jax.random.PRNGKey(0)\n",
    "keys = jax.random.split(key, BATCH_SIZE)\n",
    "sample_env_state = env.init(key)\n",
    "\n",
    "node = MCTSNode(\n",
    "    n=jnp.array(0, dtype=jnp.int32),\n",
    "    p=jnp.zeros(65, dtype=jnp.float32),\n",
    "    w=jnp.array(0, dtype=jnp.float32),\n",
    "    terminal=jnp.array(False, dtype=jnp.bool_),\n",
    "    embedding=sample_env_state,\n",
    ")\n",
    "\n",
    "tree: MCTSTree = init_batched_tree(\n",
    "    key = jax.random.PRNGKey(0),\n",
    "    batch_size = BATCH_SIZE,\n",
    "    max_nodes = MAX_NODES,\n",
    "    branching_factor = 65,\n",
    "    template_data=node\n",
    ")\n",
    "\n",
    "keys = jax.random.split(key, BATCH_SIZE)\n",
    "env_embedding = jax.vmap(env.init)(keys)"
   ]
  },
  {
   "cell_type": "code",
   "execution_count": 2,
   "metadata": {},
   "outputs": [],
   "source": [
    "# define neural network\n",
    "from core.networks.azresnet import AZResnetConfig, AZResnet\n",
    "\n",
    "resnet = AZResnet(AZResnetConfig(\n",
    "    model_type=\"resnet\",\n",
    "    policy_head_out_size=65,\n",
    "    num_blocks=2,\n",
    "    num_channels=4,\n",
    "))\n",
    "\n",
    "params = resnet.init(jax.random.PRNGKey(0), jnp.zeros((1, *env.observation_shape)), train=False)"
   ]
  },
  {
   "cell_type": "code",
   "execution_count": 3,
   "metadata": {},
   "outputs": [],
   "source": [
    "import functools\n",
    "from core.evaluators.alphazero import AlphaZero\n",
    "\n",
    "from core.evaluators.mcts.action_selection import MuZeroPUCTSelector, PUCTSelector\n",
    "\n",
    "\n",
    "def step_fn(state, action):\n",
    "    state = env.step(state, action)\n",
    "    return state, state.rewards[state.current_player], state.terminated\n",
    "\n",
    "def eval_fn(state, params):\n",
    "    policy_logits, value = resnet.apply(params, state.observation[None,...], train=False)\n",
    "    return jax.nn.softmax(policy_logits, axis=-1).squeeze(0), \\\n",
    "            value.squeeze()\n",
    "\n",
    "az = AlphaZero(\n",
    "    step_fn = step_fn,\n",
    "    eval_fn = functools.partial(eval_fn, params=params),\n",
    "    action_selection_fn = MuZeroPUCTSelector(),\n",
    "    action_mask_fn = lambda e: e.legal_action_mask\n",
    ")"
   ]
  },
  {
   "cell_type": "code",
   "execution_count": 4,
   "metadata": {},
   "outputs": [],
   "source": [
    "from functools import partial\n",
    "from chex import dataclass\n",
    "import chex\n",
    "from core.trees.tree import get_subtree\n",
    "\n",
    "@dataclass(frozen=True)\n",
    "class Experience:\n",
    "    env_embedding: chex.ArrayTree\n",
    "    action_weights: chex.Array\n",
    "\n",
    "template_experience = Experience(\n",
    "    env_embedding = sample_env_state,\n",
    "    action_weights = jnp.zeros((65), dtype=jnp.float32)\n",
    ")\n",
    "\n",
    "\n",
    "from core.memory.replay_memory import EpisodeReplayBuffer\n",
    "replay_memory = EpisodeReplayBuffer(capacity=1000)\n",
    "memory_buffer = replay_memory.init_batched_buffer(jax.random.PRNGKey(0), BATCH_SIZE, template_experience)\n",
    "\n",
    "search = jax.jit(partial(az.search, num_iterations=200))\n",
    "get_subtree = jax.jit(get_subtree)\n",
    "add_experience = jax.jit(replay_memory.add_experience)"
   ]
  },
  {
   "cell_type": "code",
   "execution_count": 5,
   "metadata": {},
   "outputs": [],
   "source": [
    "from core.trees.tree import reset_tree\n",
    "\n",
    "\n",
    "def one_step(env_embedding, tree, memory_buffer):\n",
    "    search_output = search(tree, env_embedding)\n",
    "    tree = search_output.tree\n",
    "    action = search_output.sampled_action\n",
    "    tree = get_subtree(tree, action)\n",
    "    memory_buffer = add_experience(memory_buffer, \n",
    "        Experience(env_embedding=env_embedding, action_weights=search_output.action_weights))\n",
    "    env_embedding = env.step(env_embedding, action)\n",
    "    memory_buffer = jax.lax.cond(\n",
    "        env_embedding.terminated,\n",
    "        lambda _: replay_memory.assign_reward(memory_buffer, env_embedding.rewards[env_embedding.current_player]),\n",
    "        lambda _: memory_buffer,\n",
    "        None\n",
    "    )\n",
    "    tree = jax.lax.cond(\n",
    "        env_embedding.terminated,\n",
    "        lambda t: reset_tree(t),\n",
    "        lambda t: t,\n",
    "        tree\n",
    "    )\n",
    "    env_embedding = jax.lax.cond(\n",
    "        env_embedding.terminated,\n",
    "        lambda _: env.init(jax.random.PRNGKey(0)),\n",
    "        lambda _: env_embedding,\n",
    "        None\n",
    "    )\n",
    "    return env_embedding, tree, memory_buffer\n",
    "\n",
    "one_step_ = jax.jit(jax.vmap(one_step))\n",
    "# env_embedding, tree, buffer = one_step_(env_embedding, tree, memory_buffer);\n",
    "\n"
   ]
  },
  {
   "cell_type": "code",
   "execution_count": 6,
   "metadata": {},
   "outputs": [],
   "source": [
    "env_embedding, tree, memory_buffer = jax.lax.fori_loop(\n",
    "    0, 500, lambda _, s: one_step_(*s), (env_embedding, tree, memory_buffer))"
   ]
  },
  {
   "cell_type": "markdown",
   "metadata": {},
   "source": [
    "* search output specification\n",
    "* integrate with custom replay memory buffer\n",
    "* what does a loose API surrounding training look like\n",
    "* can we update model params without re-compiling jitted code\n",
    "    * can we do this inside jitted-code?\n",
    "* does performance improve for a basic example?"
   ]
  },
  {
   "cell_type": "code",
   "execution_count": 7,
   "metadata": {},
   "outputs": [
    {
     "data": {
      "text/plain": [
       "'graph.svg'"
      ]
     },
     "execution_count": 7,
     "metadata": {},
     "output_type": "execute_result"
    }
   ],
   "source": [
    "from core.evaluators.mcts.data import tree_to_graph\n",
    "graph = tree_to_graph(tree, batch_id=0)\n",
    "graph.render('graph', format='svg', view=True)"
   ]
  },
  {
   "cell_type": "code",
   "execution_count": 8,
   "metadata": {},
   "outputs": [
    {
     "data": {
      "text/html": [
       "<svg baseProfile=\"full\" height=\"270.0\" version=\"1.1\" width=\"270.0\" xmlns=\"http://www.w3.org/2000/svg\" xmlns:ev=\"http://www.w3.org/2001/xml-events\" xmlns:xlink=\"http://www.w3.org/1999/xlink\"><defs /><rect fill=\"white\" height=\"240\" width=\"240\" x=\"0\" y=\"0\" /><g transform=\"scale(1.0)\"><rect fill=\"white\" height=\"270\" width=\"270\" x=\"0\" y=\"0\" /><g transform=\"translate(15.0,15.0)\"><rect fill=\"none\" height=\"240\" rx=\"3px\" ry=\"3px\" stroke=\"black\" stroke-width=\"10px\" width=\"240\" x=\"0\" y=\"0\" /><rect fill=\"white\" height=\"240\" stroke=\"black\" width=\"240\" x=\"0\" y=\"0\" /><g id=\"hlines\" stroke=\"black\"><line stroke-width=\"0.5px\" x1=\"0\" x2=\"240\" y1=\"0\" y2=\"0\" /><line stroke-width=\"0.5px\" x1=\"0\" x2=\"240\" y1=\"30\" y2=\"30\" /><line stroke-width=\"0.5px\" x1=\"0\" x2=\"240\" y1=\"60\" y2=\"60\" /><line stroke-width=\"0.5px\" x1=\"0\" x2=\"240\" y1=\"90\" y2=\"90\" /><line stroke-width=\"0.5px\" x1=\"0\" x2=\"240\" y1=\"120\" y2=\"120\" /><line stroke-width=\"0.5px\" x1=\"0\" x2=\"240\" y1=\"150\" y2=\"150\" /><line stroke-width=\"0.5px\" x1=\"0\" x2=\"240\" y1=\"180\" y2=\"180\" /><line stroke-width=\"0.5px\" x1=\"0\" x2=\"240\" y1=\"210\" y2=\"210\" /></g><g id=\"vline\" stroke=\"black\"><line stroke-width=\"0.5px\" x1=\"0\" x2=\"0\" y1=\"0\" y2=\"240\" /><line stroke-width=\"0.5px\" x1=\"30\" x2=\"30\" y1=\"0\" y2=\"240\" /><line stroke-width=\"0.5px\" x1=\"60\" x2=\"60\" y1=\"0\" y2=\"240\" /><line stroke-width=\"0.5px\" x1=\"90\" x2=\"90\" y1=\"0\" y2=\"240\" /><line stroke-width=\"0.5px\" x1=\"120\" x2=\"120\" y1=\"0\" y2=\"240\" /><line stroke-width=\"0.5px\" x1=\"150\" x2=\"150\" y1=\"0\" y2=\"240\" /><line stroke-width=\"0.5px\" x1=\"180\" x2=\"180\" y1=\"0\" y2=\"240\" /><line stroke-width=\"0.5px\" x1=\"210\" x2=\"210\" y1=\"0\" y2=\"240\" /></g><g><circle cx=\"60\" cy=\"60\" fill=\"black\" r=\"3.0\" /><circle cx=\"60\" cy=\"180\" fill=\"black\" r=\"3.0\" /><circle cx=\"180\" cy=\"60\" fill=\"black\" r=\"3.0\" /><circle cx=\"180\" cy=\"180\" fill=\"black\" r=\"3.0\" /></g><circle cx=\"75.0\" cy=\"45.0\" fill=\"white\" r=\"12.5\" stroke=\"black\" /><circle cx=\"105.0\" cy=\"45.0\" fill=\"black\" r=\"12.5\" stroke=\"black\" /><circle cx=\"195.0\" cy=\"45.0\" fill=\"black\" r=\"12.5\" stroke=\"black\" /><circle cx=\"105.0\" cy=\"75.0\" fill=\"white\" r=\"12.5\" stroke=\"black\" /><circle cx=\"135.0\" cy=\"75.0\" fill=\"white\" r=\"12.5\" stroke=\"black\" /><circle cx=\"165.0\" cy=\"75.0\" fill=\"white\" r=\"12.5\" stroke=\"black\" /><circle cx=\"195.0\" cy=\"75.0\" fill=\"black\" r=\"12.5\" stroke=\"black\" /><circle cx=\"105.0\" cy=\"105.0\" fill=\"white\" r=\"12.5\" stroke=\"black\" /><circle cx=\"135.0\" cy=\"105.0\" fill=\"white\" r=\"12.5\" stroke=\"black\" /><circle cx=\"195.0\" cy=\"105.0\" fill=\"black\" r=\"12.5\" stroke=\"black\" /><circle cx=\"75.0\" cy=\"135.0\" fill=\"white\" r=\"12.5\" stroke=\"black\" /><circle cx=\"105.0\" cy=\"135.0\" fill=\"black\" r=\"12.5\" stroke=\"black\" /><circle cx=\"135.0\" cy=\"135.0\" fill=\"black\" r=\"12.5\" stroke=\"black\" /><circle cx=\"165.0\" cy=\"135.0\" fill=\"black\" r=\"12.5\" stroke=\"black\" /><circle cx=\"195.0\" cy=\"135.0\" fill=\"black\" r=\"12.5\" stroke=\"black\" /><circle cx=\"75.0\" cy=\"165.0\" fill=\"white\" r=\"12.5\" stroke=\"black\" /><circle cx=\"105.0\" cy=\"165.0\" fill=\"black\" r=\"12.5\" stroke=\"black\" /><circle cx=\"135.0\" cy=\"165.0\" fill=\"black\" r=\"12.5\" stroke=\"black\" /><circle cx=\"165.0\" cy=\"165.0\" fill=\"black\" r=\"12.5\" stroke=\"black\" /><circle cx=\"75.0\" cy=\"195.0\" fill=\"white\" r=\"12.5\" stroke=\"black\" /><circle cx=\"135.0\" cy=\"195.0\" fill=\"black\" r=\"12.5\" stroke=\"black\" /><circle cx=\"75.0\" cy=\"225.0\" fill=\"white\" r=\"12.5\" stroke=\"black\" /><circle cx=\"135.0\" cy=\"225.0\" fill=\"black\" r=\"12.5\" stroke=\"black\" /></g></g></svg>"
      ],
      "text/plain": [
       "State(current_player=Array([0], dtype=int32), observation=Array([[[[False, False],\n",
       "         [False, False],\n",
       "         [False, False],\n",
       "         [False, False],\n",
       "         [False, False],\n",
       "         [False, False],\n",
       "         [False, False],\n",
       "         [False, False]],\n",
       "\n",
       "        [[False, False],\n",
       "         [False, False],\n",
       "         [ True, False],\n",
       "         [False,  True],\n",
       "         [False, False],\n",
       "         [False, False],\n",
       "         [False,  True],\n",
       "         [False, False]],\n",
       "\n",
       "        [[False, False],\n",
       "         [False, False],\n",
       "         [False, False],\n",
       "         [ True, False],\n",
       "         [ True, False],\n",
       "         [ True, False],\n",
       "         [False,  True],\n",
       "         [False, False]],\n",
       "\n",
       "        [[False, False],\n",
       "         [False, False],\n",
       "         [False, False],\n",
       "         [ True, False],\n",
       "         [ True, False],\n",
       "         [False, False],\n",
       "         [False,  True],\n",
       "         [False, False]],\n",
       "\n",
       "        [[False, False],\n",
       "         [False, False],\n",
       "         [ True, False],\n",
       "         [False,  True],\n",
       "         [False,  True],\n",
       "         [False,  True],\n",
       "         [False,  True],\n",
       "         [False, False]],\n",
       "\n",
       "        [[False, False],\n",
       "         [False, False],\n",
       "         [ True, False],\n",
       "         [False,  True],\n",
       "         [False,  True],\n",
       "         [False,  True],\n",
       "         [False, False],\n",
       "         [False, False]],\n",
       "\n",
       "        [[False, False],\n",
       "         [False, False],\n",
       "         [ True, False],\n",
       "         [False, False],\n",
       "         [False,  True],\n",
       "         [False, False],\n",
       "         [False, False],\n",
       "         [False, False]],\n",
       "\n",
       "        [[False, False],\n",
       "         [False, False],\n",
       "         [ True, False],\n",
       "         [False, False],\n",
       "         [False,  True],\n",
       "         [False, False],\n",
       "         [False, False],\n",
       "         [False, False]]]], dtype=bool), rewards=Array([[0., 0.]], dtype=float32), terminated=Array([False], dtype=bool), truncated=Array([False], dtype=bool), legal_action_mask=Array([[False, False,  True,  True, False, False, False,  True, False,\n",
       "        False, False, False,  True, False, False, False, False, False,\n",
       "        False, False, False, False, False,  True, False, False, False,\n",
       "        False, False,  True, False, False, False, False, False, False,\n",
       "        False, False, False,  True, False, False, False, False, False,\n",
       "        False,  True, False, False, False, False,  True, False, False,\n",
       "         True, False, False, False, False, False, False,  True, False,\n",
       "        False, False]], dtype=bool), _step_count=Array([19], dtype=int32), _turn=Array([1], dtype=int32), _board=Array([[ 0,  0,  0,  0,  0,  0,  0,  0,  0,  0,  1, -1,  0,  0, -1,  0,\n",
       "         0,  0,  0,  1,  1,  1, -1,  0,  0,  0,  0,  1,  1,  0, -1,  0,\n",
       "         0,  0,  1, -1, -1, -1, -1,  0,  0,  0,  1, -1, -1, -1,  0,  0,\n",
       "         0,  0,  1,  0, -1,  0,  0,  0,  0,  0,  1,  0, -1,  0,  0,  0]],      dtype=int32), _passed=Array([False], dtype=bool))"
      ]
     },
     "execution_count": 8,
     "metadata": {},
     "output_type": "execute_result"
    }
   ],
   "source": [
    "env_embedding"
   ]
  }
 ],
 "metadata": {
  "kernelspec": {
   "display_name": "turbozero-mMa0U6zx-py3.10",
   "language": "python",
   "name": "python3"
  },
  "language_info": {
   "codemirror_mode": {
    "name": "ipython",
    "version": 3
   },
   "file_extension": ".py",
   "mimetype": "text/x-python",
   "name": "python",
   "nbconvert_exporter": "python",
   "pygments_lexer": "ipython3",
   "version": "3.10.9"
  }
 },
 "nbformat": 4,
 "nbformat_minor": 2
}
