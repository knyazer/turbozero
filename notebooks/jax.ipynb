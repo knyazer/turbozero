{
 "cells": [
  {
   "cell_type": "code",
   "execution_count": 1,
   "metadata": {},
   "outputs": [
    {
     "name": "stderr",
     "output_type": "stream",
     "text": [
      "WARNING:absl:Tensorflow library not found, tensorflow.io.gfile operations will use native shim calls. GCS paths (i.e. 'gs://...') cannot be accessed.\n"
     ]
    }
   ],
   "source": [
    "\n",
    "from core.training.make import init_from_config_file\n",
    "\n",
    "trainer, train_state = init_from_config_file('../example_configs/test1.yaml', debug=True)"
   ]
  },
  {
   "cell_type": "code",
   "execution_count": 2,
   "metadata": {},
   "outputs": [],
   "source": [
    "train_state, metrics = trainer.train_epoch(train_state)"
   ]
  },
  {
   "cell_type": "code",
   "execution_count": 3,
   "metadata": {},
   "outputs": [
    {
     "data": {
      "text/plain": [
       "{'loss': Array([4.743405 , 4.8310485, 4.7860675, 4.8237906, 4.823059 ], dtype=float32),\n",
       " 'policy_accuracy': Array([0.03, 0.03, 0.04, 0.02, 0.03], dtype=float32),\n",
       " 'policy_loss': Array([4.2194996, 4.224329 , 4.2067266, 4.2088346, 4.220987 ], dtype=float32),\n",
       " 'value_accuracy': Array([0.12, 0.12, 0.12, 0.05, 0.06], dtype=float32),\n",
       " 'value_loss': Array([0.50055164, 0.58336604, 0.55598783, 0.5916026 , 0.57871985],      dtype=float32)}"
      ]
     },
     "execution_count": 3,
     "metadata": {},
     "output_type": "execute_result"
    }
   ],
   "source": [
    "metrics"
   ]
  }
 ],
 "metadata": {
  "kernelspec": {
   "display_name": "turbozero-mMa0U6zx-py3.10",
   "language": "python",
   "name": "python3"
  },
  "language_info": {
   "codemirror_mode": {
    "name": "ipython",
    "version": 3
   },
   "file_extension": ".py",
   "mimetype": "text/x-python",
   "name": "python",
   "nbconvert_exporter": "python",
   "pygments_lexer": "ipython3",
   "version": "3.10.9"
  },
  "orig_nbformat": 4
 },
 "nbformat": 4,
 "nbformat_minor": 2
}
