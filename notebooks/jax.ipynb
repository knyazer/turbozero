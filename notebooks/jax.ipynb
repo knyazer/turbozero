{
 "cells": [
  {
   "cell_type": "code",
   "execution_count": 1,
   "metadata": {},
   "outputs": [
    {
     "name": "stderr",
     "output_type": "stream",
     "text": [
      "WARNING:absl:Tensorflow library not found, tensorflow.io.gfile operations will use native shim calls. GCS paths (i.e. 'gs://...') cannot be accessed.\n"
     ]
    }
   ],
   "source": [
    "# import wanbd\n",
    "# wandb.init(\n",
    "#     project=\"test_az_0\",\n",
    "#     config={\n",
    "#         'train_config': trainer.config,\n",
    "#         'model_config': model.config,\n",
    "#         'env_config': env.config,\n",
    "#         'evaluator_config': evaluator.config,\n",
    "#         'buff_config': buff.config\n",
    "#     }\n",
    "# )\n",
    "\n",
    "\n",
    "from core.training.train import init_from_config_file\n",
    "\n",
    "trainer, train_state = init_from_config_file('../example_configs/test1.yaml', debug=True)\n"
   ]
  },
  {
   "cell_type": "code",
   "execution_count": null,
   "metadata": {},
   "outputs": [],
   "source": [
    "trainer.train_loop(train_state, num_epochs=1)"
   ]
  }
 ],
 "metadata": {
  "kernelspec": {
   "display_name": "turbozero-mMa0U6zx-py3.10",
   "language": "python",
   "name": "python3"
  },
  "language_info": {
   "codemirror_mode": {
    "name": "ipython",
    "version": 3
   },
   "file_extension": ".py",
   "mimetype": "text/x-python",
   "name": "python",
   "nbconvert_exporter": "python",
   "pygments_lexer": "ipython3",
   "version": "3.10.9"
  },
  "orig_nbformat": 4
 },
 "nbformat": 4,
 "nbformat_minor": 2
}
