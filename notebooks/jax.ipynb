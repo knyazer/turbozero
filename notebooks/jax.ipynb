{
 "cells": [
  {
   "cell_type": "markdown",
   "metadata": {},
   "source": [
    "PSUEDOCODE\n",
    "* one iteration of selfplay collection takes N steps\n",
    "* environments are reset when they terminate (or are truncated)\n",
    "* trajectories are placed in batched replay memory buffer\n",
    "* rewards are assigned to trajectories after episode is completed\n",
    "\n",
    "* once a selfplay collection iteration is completed, T training steps are taken\n",
    "* a training step involves gathering a mini-batch of size M trajectories from non-truncated, terminated episodes in the replay memory buffer\n",
    "* a trajectory includes metadata necessary to train a model\n",
    "    * in the case of AZ, this include action visit counts, and final episode reward\n",
    "* compare model output to metadata, compute loss, SGD, etc\n",
    "\n",
    "* C collection steps makes up one training epoch\n",
    "* do whatever to evaluate\n",
    "\n",
    "\n",
    "def train():\n",
    "    for _ in range()"
   ]
  },
  {
   "cell_type": "code",
   "execution_count": 1,
   "metadata": {},
   "outputs": [],
   "source": [
    "from flax import struct\n",
    "import jax.numpy as jnp\n",
    "import jax\n",
    "from functools import partial"
   ]
  },
  {
   "cell_type": "code",
   "execution_count": 2,
   "metadata": {},
   "outputs": [],
   "source": [
    "@struct.dataclass\n",
    "class Trajectory:\n",
    "    obs: jnp.ndarray\n",
    "    reward: jnp.ndarray"
   ]
  },
  {
   "cell_type": "code",
   "execution_count": 7,
   "metadata": {},
   "outputs": [],
   "source": [
    "class Experience(struct.PyTreeNode):\n",
    "    obs: jnp.ndarray\n",
    "\n",
    "@struct.dataclass\n",
    "class EndRewardReplayBufferState:\n",
    "    next_index: jnp.ndarray # next index to write experience to\n",
    "    next_reward_index: jnp.ndarray # next index to write reward to\n",
    "    buffer: struct.PyTreeNode # buffer of experiences\n",
    "    reward_buffer: jnp.ndarray # buffer of rewards\n",
    "    needs_reward: jnp.ndarray # does experience need reward\n",
    "    populated: jnp.ndarray # is experience populated\n",
    "\n",
    "class EndRewardReplayBuffer:\n",
    "    def __init__(self,\n",
    "        template_experience: struct.PyTreeNode,\n",
    "        batch_size: int,\n",
    "        max_len_per_batch: int,\n",
    "        sample_batch_size: int,\n",
    "    ):\n",
    "        self.sample_batch_size = sample_batch_size\n",
    "        self.max_len_per_batch = max_len_per_batch\n",
    "        self.batch_size = batch_size\n",
    "\n",
    "        experience = jax.tree_map(\n",
    "            lambda x: jnp.broadcast_to(\n",
    "                x, (batch_size, max_len_per_batch, *x.shape)\n",
    "            ),\n",
    "            template_experience,\n",
    "        )\n",
    "\n",
    "        self.state = EndRewardReplayBufferState(\n",
    "            next_index=jnp.zeros((batch_size,), dtype=jnp.int32),\n",
    "            next_reward_index=jnp.zeros((batch_size,), dtype=jnp.int32),\n",
    "            reward_buffer=jnp.zeros((batch_size, max_len_per_batch, 1), dtype=jnp.float32),\n",
    "            buffer=experience,\n",
    "            needs_reward=jnp.zeros((batch_size, max_len_per_batch, 1), dtype=jnp.bool_),\n",
    "            populated=jnp.zeros((batch_size, max_len_per_batch, 1), dtype=jnp.bool_),\n",
    "        )\n",
    "\n",
    "    def add_experience(self, experience: struct.PyTreeNode) -> None:\n",
    "        self.state = add_experience(self.state, experience, self.batch_size, self.max_len_per_batch)    \n",
    "\n",
    "    def assign_rewards(self, rewards: jnp.ndarray, select_batch: jnp.ndarray) -> None:\n",
    "        self.state = assign_rewards(self.state, rewards, select_batch, self.max_len_per_batch)\n",
    "\n",
    "    def sample(self, rng: jax.random.PRNGKey) -> struct.PyTreeNode:\n",
    "        return sample(self.state, rng, self.batch_size, self.max_len_per_batch, self.sample_batch_size)\n",
    "\n",
    "\n",
    "\n",
    "\n",
    "@partial(jax.jit, static_argnums=(2,3))\n",
    "def add_experience(\n",
    "    buffer_state: EndRewardReplayBufferState,\n",
    "    experience: struct.PyTreeNode,\n",
    "    batch_size: int,\n",
    "    max_len_per_batch: int,\n",
    ") -> EndRewardReplayBufferState:\n",
    "    \n",
    "    def add_item(items, new_item):\n",
    "        return items.at[jnp.arange(batch_size), buffer_state.next_index].set(new_item)\n",
    "\n",
    "    return buffer_state.replace(\n",
    "        buffer = jax.tree_map(add_item, buffer_state.buffer, experience),\n",
    "        next_index = (buffer_state.next_index + 1) % max_len_per_batch,\n",
    "        needs_reward = buffer_state.needs_reward.at[:, buffer_state.next_index, 0].set(True),\n",
    "        populated = buffer_state.populated.at[:, buffer_state.next_index, 0].set(True)\n",
    "    )\n",
    "\n",
    "@partial(jax.jit, static_argnums=(3,))\n",
    "def assign_rewards(\n",
    "    buffer_state: EndRewardReplayBufferState,\n",
    "    rewards: jnp.ndarray,\n",
    "    select_batch: jnp.ndarray,\n",
    "    max_len_per_batch: int\n",
    ") -> EndRewardReplayBufferState:\n",
    "    rolled = jax.vmap(jnp.roll, in_axes=(0, 0))(rewards, buffer_state.next_reward_index)\n",
    "    tiled = jnp.tile(rolled, (1, max_len_per_batch // rewards.shape[1]))\n",
    "    \n",
    "    return buffer_state.replace(\n",
    "        reward_buffer = jnp.where(\n",
    "            select_batch[..., None, None] & buffer_state.needs_reward,\n",
    "            tiled[..., None],\n",
    "            buffer_state.reward_buffer\n",
    "        ),\n",
    "        next_reward_index = jnp.where(\n",
    "            select_batch,\n",
    "            buffer_state.next_index,\n",
    "            buffer_state.next_reward_index\n",
    "        ),\n",
    "        needs_reward = jnp.where(\n",
    "            select_batch[..., None, None],\n",
    "            False,\n",
    "            buffer_state.needs_reward\n",
    "        )\n",
    "    )\n",
    "\n",
    "@partial(jax.jit, static_argnums=(2,3,4))\n",
    "def sample(\n",
    "    buffer_state: EndRewardReplayBufferState,\n",
    "    rng: jax.random.PRNGKey,\n",
    "    batch_size: int,\n",
    "    max_len_per_batch: int,\n",
    "    sample_batch_size: int\n",
    ") -> struct.PyTreeNode:\n",
    "    probs = ((~buffer_state.needs_reward).reshape(-1) * buffer_state.populated.reshape(-1)).astype(jnp.float32)\n",
    "    indices = jax.random.choice(\n",
    "        rng,\n",
    "        max_len_per_batch * batch_size,\n",
    "        shape=(sample_batch_size,),\n",
    "        replace=False,\n",
    "        p = probs / probs.sum()\n",
    "    )\n",
    "    batch_indices = indices // max_len_per_batch\n",
    "    item_indices = indices % max_len_per_batch\n",
    "\n",
    "    return jax.tree_util.tree_map(\n",
    "        lambda x: x[batch_indices, item_indices],\n",
    "        buffer_state.buffer\n",
    "    ), buffer_state.reward_buffer[batch_indices, item_indices]"
   ]
  },
  {
   "cell_type": "code",
   "execution_count": 8,
   "metadata": {},
   "outputs": [],
   "source": [
    "def test(rng, batch_size, max_len_per_batch, sample_batch_size):\n",
    "\n",
    "    buff = EndRewardReplayBuffer(\n",
    "        template_experience=Experience(obs=jnp.array([0, 0])),\n",
    "        batch_size=batch_size,\n",
    "        max_len_per_batch=max_len_per_batch,\n",
    "        sample_batch_size=sample_batch_size\n",
    "    )\n",
    "    \n",
    "    for j in range(11):\n",
    "        buff.add_experience(\n",
    "            Experience(obs=jnp.stack([jnp.array([j, i]) for i in range(4)]))\n",
    "        )\n",
    "\n",
    "\n",
    "    buff.assign_rewards(\n",
    "        jnp.array([[1,0], [0.5,0.5], [0,1], [0.5, 0.5]]).reshape(-1, 2),\n",
    "        jnp.array([True, True, False, True])\n",
    "    )\n",
    "\n",
    "    for j in range(11):\n",
    "        buff.add_experience(\n",
    "            Experience(obs=jnp.stack([jnp.array([j+11, i]) for i in range(4)]))\n",
    "        )\n",
    "\n",
    "    buff.assign_rewards(\n",
    "        jnp.array([[1,0], [1,0], [1,0], [1, 0]]).reshape(-1, 2),\n",
    "        jnp.array([True, True, True, True])\n",
    "    )\n",
    "\n",
    "    return buff.sample(rng)"
   ]
  },
  {
   "cell_type": "code",
   "execution_count": 13,
   "metadata": {},
   "outputs": [
    {
     "data": {
      "text/plain": [
       "(Experience(obs=Array([[12,  3],\n",
       "        [15,  0],\n",
       "        [10,  3],\n",
       "        [ 9,  0],\n",
       "        [16,  2],\n",
       "        [ 7,  2],\n",
       "        [17,  0],\n",
       "        [ 2,  1],\n",
       "        [13,  3],\n",
       "        [15,  2]], dtype=int32)),\n",
       " Array([[0. ],\n",
       "        [1. ],\n",
       "        [0.5],\n",
       "        [0. ],\n",
       "        [1. ],\n",
       "        [0. ],\n",
       "        [1. ],\n",
       "        [0.5],\n",
       "        [1. ],\n",
       "        [0. ]], dtype=float32))"
      ]
     },
     "execution_count": 13,
     "metadata": {},
     "output_type": "execute_result"
    }
   ],
   "source": [
    "test(jax.random.PRNGKey(1), 4, 30, 10)"
   ]
  },
  {
   "cell_type": "code",
   "execution_count": 14,
   "metadata": {},
   "outputs": [],
   "source": [
    "test_jit = jax.jit(test, static_argnums=(1, 2, 3))"
   ]
  },
  {
   "cell_type": "code",
   "execution_count": 20,
   "metadata": {},
   "outputs": [
    {
     "data": {
      "text/plain": [
       "Experience(obs=Array([[16,  2],\n",
       "       [19,  2],\n",
       "       [11,  2],\n",
       "       [21,  0],\n",
       "       [12,  2],\n",
       "       [ 6,  3],\n",
       "       [ 6,  2],\n",
       "       [12,  0],\n",
       "       [14,  1],\n",
       "       [16,  0]], dtype=int32))"
      ]
     },
     "execution_count": 20,
     "metadata": {},
     "output_type": "execute_result"
    }
   ],
   "source": [
    "sample, state = test_jit(jax.random.PRNGKey(7), 4, 30, 10)\n",
    "sample"
   ]
  },
  {
   "cell_type": "code",
   "execution_count": 45,
   "metadata": {},
   "outputs": [
    {
     "data": {
      "text/plain": [
       "({'obs': Array([[2, 3],\n",
       "         [1, 1],\n",
       "         [5, 2],\n",
       "         [1, 1],\n",
       "         [6, 2],\n",
       "         [1, 2],\n",
       "         [1, 2],\n",
       "         [2, 0],\n",
       "         [7, 2],\n",
       "         [9, 3]], dtype=int32),\n",
       "  'reward': Array([[8],\n",
       "         [0],\n",
       "         [7],\n",
       "         [2],\n",
       "         [7],\n",
       "         [7],\n",
       "         [7],\n",
       "         [5],\n",
       "         [7],\n",
       "         [8]], dtype=int32)},\n",
       " Array([3, 1, 2, 1, 2, 2, 2, 0, 2, 3], dtype=int32),\n",
       " Array([12, 11, 15,  1,  6, 11,  1, 12,  7, 19], dtype=int32))"
      ]
     },
     "execution_count": 45,
     "metadata": {},
     "output_type": "execute_result"
    }
   ],
   "source": [
    "sample(buff_state, jax.random.PRNGKey(1))"
   ]
  },
  {
   "cell_type": "code",
   "execution_count": null,
   "metadata": {},
   "outputs": [],
   "source": []
  },
  {
   "cell_type": "code",
   "execution_count": 35,
   "metadata": {},
   "outputs": [],
   "source": [
    "@struct.dataclass\n",
    "class MCTS_State(abc.ABC):\n",
    "    env_state: State\n",
    "    action_map: jnp.ndarray\n",
    "    p_vals: jnp.ndarray\n",
    "    n_vals: jnp.ndarray\n",
    "    w_vals: jnp.ndarray\n",
    "    actions_taken: jnp.ndarray\n",
    "    visits: jnp.ndarray\n",
    "    next_empty: jnp.ndarray\n",
    "    cur_node: jnp.ndarray\n",
    "    depth: jnp.ndarray\n",
    "    subtrees: jnp.ndarray\n",
    "    parents: jnp.ndarray\n",
    "    rng: PRNGKeyArray\n",
    "\n",
    "def init_state(\n",
    "    keys: PRNGKeyArray\n",
    "):\n",
    "    max_nodes = 100\n",
    "    policy_size = 10\n",
    "    total_slots = 2 + max_nodes\n",
    "    std_shape = (total_slots, policy_size)\n",
    "\n",
    "    visits = jnp.zeros(max_nodes + 1, dtype=jnp.int32)\n",
    "    visits.at[0].set(1)\n",
    "\n",
    "    state = MCTS_State(\n",
    "        action_map=jnp.zeros(std_shape, dtype=jnp.int32),\n",
    "        p_vals=jnp.zeros(std_shape, dtype=jnp.float32),\n",
    "        n_vals=jnp.zeros(std_shape, dtype=jnp.float32),\n",
    "        w_vals=jnp.zeros(std_shape, dtype=jnp.float32),\n",
    "        actions_taken=jnp.zeros(max_nodes + 1, dtype=jnp.int32),\n",
    "        visits=visits,\n",
    "        next_empty=jnp.full(1, 2, dtype=jnp.int32),\n",
    "        cur_node=jnp.ones(1, dtype=jnp.int32),\n",
    "        depth=jnp.zeros(1, dtype=jnp.int32),\n",
    "        subtrees=jnp.zeros(1, dtype=jnp.int32),\n",
    "        parents=jnp.zeros(1, dtype=jnp.int32),\n",
    "        rng=keys\n",
    "    )\n",
    "\n",
    "    return state\n",
    "\n",
    "class MCTS_Evaluator:\n",
    "    def __init__(self, env):\n",
    "        self.state = None\n",
    "        self.env = env\n",
    "\n",
    "    def reset(self, keys):\n",
    "        return init_state(keys), self.env.reset(keys)\n",
    "        \n"
   ]
  },
  {
   "cell_type": "code",
   "execution_count": 38,
   "metadata": {},
   "outputs": [],
   "source": [
    "keys = jax.random.split(jax.random.PRNGKey(0), 5)\n",
    "evaluator = MCTS_Evaluator(env)\n",
    "\n",
    "mcts, (state, timestep) = jax.vmap(evaluator.reset)(keys)"
   ]
  },
  {
   "cell_type": "code",
   "execution_count": null,
   "metadata": {},
   "outputs": [],
   "source": [
    "from flax import linen as nn"
   ]
  },
  {
   "cell_type": "code",
   "execution_count": null,
   "metadata": {},
   "outputs": [],
   "source": [
    "class ResiudalBlock(nn.Module):\n",
    "    in_channels: int\n",
    "    out_channels: int\n",
    "    kernel_size: int = 3\n",
    "    stride: int = 1\n",
    "    def __call__(self, x):\n",
    "        xt = nn.Sequential([\n",
    "            nn.Conv(self.out_channels, self.kernel_size, self.stride),\n",
    "        ])\n",
    "\n",
    "\n",
    "class AZResnet(nn.Module):\n",
    "    def __call__(self, x):\n",
    "        dtype = jnp.float32\n",
    "        x = x.astype(dtype)\n",
    "        \n",
    "\n",
    "\n",
    "    "
   ]
  },
  {
   "cell_type": "code",
   "execution_count": 75,
   "metadata": {},
   "outputs": [
    {
     "ename": "TypeError",
     "evalue": "scan body output must be a pair, got ShapedArray(int32[10]).",
     "output_type": "error",
     "traceback": [
      "\u001b[0;31m---------------------------------------------------------------------------\u001b[0m",
      "\u001b[0;31mTypeError\u001b[0m                                 Traceback (most recent call last)",
      "\u001b[1;32m/Users/marshingjay/Repos/turbozero/notebooks/jax.ipynb Cell 18\u001b[0m line \u001b[0;36m1\n\u001b[0;32m----> <a href='vscode-notebook-cell:/Users/marshingjay/Repos/turbozero/notebooks/jax.ipynb#X25sZmlsZQ%3D%3D?line=0'>1</a>\u001b[0m jax\u001b[39m.\u001b[39;49mlax\u001b[39m.\u001b[39;49mscan(\u001b[39mlambda\u001b[39;49;00m x, y: x \u001b[39m+\u001b[39;49m y, jnp\u001b[39m.\u001b[39;49marange(\u001b[39m10\u001b[39;49m), jnp\u001b[39m.\u001b[39;49marange(\u001b[39m10\u001b[39;49m))\n",
      "    \u001b[0;31m[... skipping hidden 2 frame]\u001b[0m\n",
      "File \u001b[0;32m~/Library/Caches/pypoetry/virtualenvs/turbozero-mMa0U6zx-py3.10/lib/python3.10/site-packages/jax/_src/lax/control_flow/loops.py:244\u001b[0m, in \u001b[0;36mscan.<locals>._create_jaxpr\u001b[0;34m(init)\u001b[0m\n\u001b[1;32m    242\u001b[0m \u001b[39mif\u001b[39;00m \u001b[39mlen\u001b[39m(out_tree_children) \u001b[39m!=\u001b[39m \u001b[39m2\u001b[39m:\n\u001b[1;32m    243\u001b[0m   msg \u001b[39m=\u001b[39m \u001b[39m\"\u001b[39m\u001b[39mscan body output must be a pair, got \u001b[39m\u001b[39m{}\u001b[39;00m\u001b[39m.\u001b[39m\u001b[39m\"\u001b[39m\n\u001b[0;32m--> 244\u001b[0m   \u001b[39mraise\u001b[39;00m \u001b[39mTypeError\u001b[39;00m(msg\u001b[39m.\u001b[39mformat(tree_unflatten(out_tree, jaxpr\u001b[39m.\u001b[39mout_avals)))\n\u001b[1;32m    245\u001b[0m carry_avals_out \u001b[39m=\u001b[39m jaxpr\u001b[39m.\u001b[39mout_avals[:out_tree_children[\u001b[39m0\u001b[39m]\u001b[39m.\u001b[39mnum_leaves]\n\u001b[1;32m    246\u001b[0m \u001b[39mreturn\u001b[39;00m init_flat, carry_avals, carry_avals_out, init_tree, in_flat, jaxpr, consts, out_tree, out_tree_children\n",
      "\u001b[0;31mTypeError\u001b[0m: scan body output must be a pair, got ShapedArray(int32[10])."
     ]
    }
   ],
   "source": [
    "jax.lax.scan(lambda x, y: x + y, jnp.arange(10), jnp.arange(10))"
   ]
  }
 ],
 "metadata": {
  "kernelspec": {
   "display_name": "turbozero-mMa0U6zx-py3.10",
   "language": "python",
   "name": "python3"
  },
  "language_info": {
   "codemirror_mode": {
    "name": "ipython",
    "version": 3
   },
   "file_extension": ".py",
   "mimetype": "text/x-python",
   "name": "python",
   "nbconvert_exporter": "python",
   "pygments_lexer": "ipython3",
   "version": "3.10.9"
  },
  "orig_nbformat": 4
 },
 "nbformat": 4,
 "nbformat_minor": 2
}
